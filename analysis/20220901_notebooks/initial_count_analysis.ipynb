{
 "cells": [
  {
   "cell_type": "code",
   "execution_count": null,
   "metadata": {},
   "outputs": [],
   "source": [
    "%matplotlib inline\n",
    "\n",
    "import numpy as np\n",
    "import matplotlib.pyplot as plt\n",
    "import seaborn as sns\n",
    "import scipy.stats as stats"
   ]
  },
  {
   "cell_type": "markdown",
   "metadata": {},
   "source": [
    "Load data from first replicate and try plotting with kdeplot."
   ]
  },
  {
   "cell_type": "code",
   "execution_count": null,
   "metadata": {},
   "outputs": [],
   "source": [
    "liquid1 = np.load('../../data/20220901_final_counts/counts.1_counts.npy')\n",
    "semisolid1 = np.load('../../data/20220901_final_counts/counts.2_counts.npy')\n",
    "small_spread1 = np.load('../../data/20220901_final_counts/counts.3_counts.npy')\n",
    "bead_spread1 = np.load('../../data/20220901_final_counts/counts.4_counts.npy')\n",
    "large_spread1 = np.load('../../data/20220901_final_counts/counts.5_counts.npy')\n",
    "rep1 = [liquid1, semisolid1, small_spread1, bead_spread1, large_spread1]\n",
    "rep1_labels = ['liquid', 'semisolid', 'small spread', 'bead spread', 'large spread']"
   ]
  },
  {
   "cell_type": "markdown",
   "metadata": {},
   "source": [
    "Look at summary statistics"
   ]
  },
  {
   "cell_type": "code",
   "execution_count": null,
   "metadata": {},
   "outputs": [],
   "source": [
    "for sample, label in zip(rep1, rep1_labels):\n",
    "  print(f'{label}: {stats.describe(sample)}')\n",
    "  print(f'{label} median: {sample[len(sample)//2]}')\n",
    "  print(f'{label} std: {np.std(sample)}')"
   ]
  },
  {
   "cell_type": "markdown",
   "metadata": {},
   "source": [
    "Try plotting with kdeplot:"
   ]
  },
  {
   "cell_type": "code",
   "execution_count": null,
   "metadata": {},
   "outputs": [],
   "source": [
    "for data, label in zip(rep1, rep1_labels):\n",
    "  sns.kdeplot(data, bw_adjust=5, label=label)\n",
    "plt.legend()\n",
    "plt.xlim([0,100])"
   ]
  },
  {
   "cell_type": "markdown",
   "metadata": {},
   "source": [
    "Semisolid looks a bit weird; try plotting as histograms instead."
   ]
  },
  {
   "cell_type": "code",
   "execution_count": null,
   "metadata": {},
   "outputs": [],
   "source": [
    "for data, label in zip(rep1, rep1_labels):\n",
    "  plt.hist(data, label=label, bins=range(0, 100), alpha=0.5)\n",
    "plt.legend()"
   ]
  },
  {
   "cell_type": "markdown",
   "metadata": {},
   "source": [
    "Find the number of unique sequences seen in each library."
   ]
  },
  {
   "cell_type": "code",
   "execution_count": null,
   "metadata": {},
   "outputs": [],
   "source": [
    "counts = [len(sample) for sample in rep1]\n",
    "for i in range(5):\n",
    "  print(f'{rep1_labels[i]}: {counts[i]}')"
   ]
  },
  {
   "cell_type": "markdown",
   "metadata": {},
   "source": [
    "Find the maximum count for a sequence in each library."
   ]
  },
  {
   "cell_type": "code",
   "execution_count": null,
   "metadata": {},
   "outputs": [],
   "source": [
    "rep1_sorted = [sorted(sample) for sample in rep1]\n",
    "for i in range(5):\n",
    "  print(f'{rep1_labels[i]}: {rep1_sorted[i][-5:]}')"
   ]
  },
  {
   "cell_type": "markdown",
   "metadata": {},
   "source": [
    "Do same analysis for replicate 2."
   ]
  },
  {
   "cell_type": "code",
   "execution_count": null,
   "metadata": {},
   "outputs": [],
   "source": [
    "liquid2 = np.load('../../data/20220901_final_counts/counts.6_counts.npy')\n",
    "semisolid2 = np.load('../../data/20220901_final_counts/counts.7_counts.npy')\n",
    "small_spread2 = np.load('../../data/20220901_final_counts/counts.8_counts.npy')\n",
    "bead_spread2 = np.load('../../data/20220901_final_counts/counts.9_counts.npy')\n",
    "large_spread2 = np.load('../../data/20220901_final_counts/counts.10_counts.npy')\n",
    "rep2 = [liquid2, semisolid2, small_spread2, bead_spread2, large_spread2]\n",
    "rep2_labels = ['liquid', 'semisolid', 'small spread', 'bead spread', 'large spread']"
   ]
  },
  {
   "cell_type": "code",
   "execution_count": null,
   "metadata": {},
   "outputs": [],
   "source": [
    "for sample, label in zip(rep2, rep2_labels):\n",
    "  print(f'{label}: {stats.describe(sample)}')\n",
    "  print(f'{label} median: {sample[len(sample)//2]}')\n",
    "  print(f'{label} std: {np.std(sample)}')"
   ]
  },
  {
   "cell_type": "code",
   "execution_count": null,
   "metadata": {},
   "outputs": [],
   "source": [
    "for sample, label in zip(rep2, rep2_labels):\n",
    "  print(f'{label}: {stats.describe(sample)}')\n",
    "  print(f'{label} median: {sample[len(sample)//2]}')"
   ]
  },
  {
   "cell_type": "code",
   "execution_count": null,
   "metadata": {},
   "outputs": [],
   "source": [
    "for data, label in zip(rep2, rep2_labels):\n",
    "  plt.hist(data, label=label, bins=range(0, 200), alpha=0.5)\n",
    "plt.legend()"
   ]
  },
  {
   "cell_type": "code",
   "execution_count": null,
   "metadata": {},
   "outputs": [],
   "source": [
    "for data, label in zip(rep1, rep1_labels):\n",
    "  plt.hist(data, label=label, bins=range(0, 100), alpha=0.5)\n",
    "  plt.legend()\n",
    "  plt.show()"
   ]
  },
  {
   "cell_type": "code",
   "execution_count": null,
   "metadata": {},
   "outputs": [],
   "source": [
    "for data, label in zip(rep2, rep2_labels):\n",
    "  plt.hist(data, label=label, bins=range(0, 200), alpha=0.5)\n",
    "  plt.legend()\n",
    "  plt.show()"
   ]
  },
  {
   "cell_type": "code",
   "execution_count": null,
   "metadata": {},
   "outputs": [],
   "source": [
    "counts = [len(sample) for sample in rep2]\n",
    "for i in range(5):\n",
    "  print(f'{rep2_labels[i]}: {counts[i]}')"
   ]
  },
  {
   "cell_type": "code",
   "execution_count": null,
   "metadata": {},
   "outputs": [],
   "source": [
    "rep2_sorted = [sorted(sample) for sample in rep2]\n",
    "for i in range(5):\n",
    "  print(f'{rep2_labels[i]}: {rep2_sorted[i][-5:]}')"
   ]
  },
  {
   "cell_type": "code",
   "execution_count": null,
   "metadata": {},
   "outputs": [],
   "source": [
    "rep1"
   ]
  },
  {
   "cell_type": "markdown",
   "metadata": {},
   "source": [
    "Try plotting as box plots"
   ]
  },
  {
   "cell_type": "code",
   "execution_count": null,
   "metadata": {},
   "outputs": [],
   "source": [
    "sns.boxplot(data=rep1)\n",
    "plt.ylim([0, 500])"
   ]
  },
  {
   "cell_type": "code",
   "execution_count": null,
   "metadata": {},
   "outputs": [],
   "source": [
    "sns.boxplot(data=rep2)\n",
    "plt.ylim([0, 500])"
   ]
  },
  {
   "cell_type": "code",
   "execution_count": null,
   "metadata": {},
   "outputs": [],
   "source": [
    "def lorenz_curve(X):\n",
    "    X_lorenz = X.cumsum() / X.sum()\n",
    "    X_lorenz = np.insert(X_lorenz, 0, 0) \n",
    "    X_lorenz[0], X_lorenz[-1]\n",
    "    fig, ax = plt.subplots(figsize=[6,6])\n",
    "    ## scatter plot of Lorenz curve\n",
    "    ax.scatter(np.arange(X_lorenz.size)/(X_lorenz.size-1), X_lorenz)\n",
    "    ## line plot of equality\n",
    "    ax.plot([0,1], [0,1], color='k')\n",
    "    return X_lorenz\n",
    "\n",
    "lorenz_curve(rep1[0])\n",
    "lorenz_curve(rep1[1])\n",
    "lorenz_curve(rep1[2])\n",
    "lorenz_curve(rep1[3])\n",
    "lorenz_curve(rep1[4])"
   ]
  },
  {
   "cell_type": "code",
   "execution_count": null,
   "metadata": {},
   "outputs": [],
   "source": [
    "def gini(arr):\n",
    "    ## first sort\n",
    "    sorted_arr = arr.copy()\n",
    "    sorted_arr.sort()\n",
    "    n = arr.size\n",
    "    coef_ = 2. / n\n",
    "    const_ = (n + 1.) / n\n",
    "    weighted_sum = sum([(i+1)*yi for i, yi in enumerate(sorted_arr)])\n",
    "    return coef_*weighted_sum/(sorted_arr.sum()) - const_\n",
    "\n",
    "gini_rep1 = []\n",
    "for sample, label in zip(rep1, rep1_labels):\n",
    "  print(f'{label :>20}1: {gini(sample)}')\n",
    "  gini_rep1.append(gini(sample))\n",
    "\n",
    "gini_rep2 = []\n",
    "for sample, label in zip(rep2, rep2_labels):\n",
    "  print(f'{label :>20}2: {gini(sample)}')\n",
    "  gini_rep2.append(gini(sample))"
   ]
  },
  {
   "cell_type": "code",
   "execution_count": null,
   "metadata": {},
   "outputs": [],
   "source": [
    "for sample, label in zip(rep1, rep1_labels):\n",
    "  lorenz = sample.cumsum() / sample.sum()\n",
    "  auc = np.trapz(y=lorenz, x=np.arange(lorenz.size)/(lorenz.size-1))\n",
    "  print(f'{label} AUC: {auc}')\n",
    "\n",
    "for sample, label in zip(rep2, rep2_labels):\n",
    "  lorenz = sample.cumsum() / sample.sum()\n",
    "  auc = np.trapz(y=lorenz, x=np.arange(lorenz.size)/(lorenz.size-1))\n",
    "  print(f'{label} AUC: {auc}')\n"
   ]
  }
 ],
 "metadata": {
  "kernelspec": {
   "display_name": "Python 3.10.4 64-bit",
   "language": "python",
   "name": "python3"
  },
  "language_info": {
   "codemirror_mode": {
    "name": "ipython",
    "version": 3
   },
   "file_extension": ".py",
   "mimetype": "text/x-python",
   "name": "python",
   "nbconvert_exporter": "python",
   "pygments_lexer": "ipython3",
   "version": "3.10.4"
  },
  "orig_nbformat": 4,
  "vscode": {
   "interpreter": {
    "hash": "fa7c27dc793df5be2edaadabdf154ce9b78714d52aa15f6b4e8ee8c3cd646d7f"
   }
  }
 },
 "nbformat": 4,
 "nbformat_minor": 2
}
