{
 "cells": [
  {
   "cell_type": "code",
   "execution_count": null,
   "metadata": {},
   "outputs": [],
   "source": [
    "%matplotlib inline\n",
    "\n",
    "import numpy as np\n",
    "import pandas as pd\n",
    "import matplotlib.pyplot as plt\n",
    "import seaborn as sns\n",
    "from itertools import chain\n",
    "import scipy.stats as stats"
   ]
  },
  {
   "cell_type": "markdown",
   "metadata": {},
   "source": [
    "Load data from first replicate and try plotting with kdeplot."
   ]
  },
  {
   "cell_type": "code",
   "execution_count": null,
   "metadata": {},
   "outputs": [],
   "source": [
    "sample_names = ['liquid', 'semisolid', 'small spread', 'bead spread', 'large spread']\n",
    "rep1_samples = []\n",
    "rep1_names_repeated = []\n",
    "for i, name in enumerate(sample_names):\n",
    "  rep1_samples.append(np.load(f'../../data/20220901_final_counts/counts.{i + 1}_counts.npy'))\n",
    "  rep1_names_repeated.append([name] * len(rep1_samples[i]))\n",
    "rep1_counts = chain(*rep1_samples)\n",
    "rep1_names = chain(*rep1_names_repeated)\n",
    "df1 = pd.DataFrame(zip(rep1_names, rep1_counts), columns=['sample', 'sequence reads'])\n",
    "\n",
    "rep2_samples = []\n",
    "rep2_names_repeated = []\n",
    "for i, name in enumerate(sample_names):\n",
    "  rep2_samples.append(np.load(f'../../data/20220901_final_counts/counts.{i + 6}_counts.npy'))\n",
    "  rep2_names_repeated.append([name] * len(rep2_samples[i]))\n",
    "rep2_counts = chain(*rep2_samples)\n",
    "rep2_names = chain(*rep2_names_repeated)\n",
    "df2 = pd.DataFrame(zip(rep2_names, rep2_counts), columns=['sample', 'sequence reads'])"
   ]
  },
  {
   "cell_type": "code",
   "execution_count": null,
   "metadata": {},
   "outputs": [],
   "source": [
    "sns.kdeplot(data=df1, x='sequence reads', hue='sample', clip=[1,100])\n",
    "plt.xlim([0,100])\n",
    "plt.savefig(\"../../images/kde_rep1.svg\")"
   ]
  },
  {
   "cell_type": "code",
   "execution_count": null,
   "metadata": {},
   "outputs": [],
   "source": [
    "sns.kdeplot(data=df2, x='sequence reads', hue='sample', clip=[1,200])\n",
    "plt.xlim([0,200])\n",
    "plt.savefig(\"../../images/kde_rep2.svg\")"
   ]
  },
  {
   "cell_type": "code",
   "execution_count": null,
   "metadata": {},
   "outputs": [],
   "source": [
    "sns.displot(df1, y='sequence reads', col=\"sample\", aspect=.4, bins=range(100))"
   ]
  },
  {
   "cell_type": "code",
   "execution_count": null,
   "metadata": {},
   "outputs": [],
   "source": [
    "sns.displot(df2, y='sequence reads', col=\"sample\", aspect=.4, bins=range(100))"
   ]
  },
  {
   "cell_type": "code",
   "execution_count": null,
   "metadata": {},
   "outputs": [],
   "source": [
    "sns.violinplot(data=df1, y='sequence reads', x='sample', bw=0.5)\n",
    "plt.ylim([0,100])"
   ]
  },
  {
   "cell_type": "code",
   "execution_count": null,
   "metadata": {},
   "outputs": [],
   "source": [
    "sns.histplot(data=df1, x='sequence reads', hue='sample', bins=range(1,100))"
   ]
  },
  {
   "cell_type": "code",
   "execution_count": null,
   "metadata": {},
   "outputs": [],
   "source": [
    "sns.boxplot(data=df1, y='sequence reads', x='sample')\n",
    "plt.ylim([0,2200])\n",
    "plt.savefig(\"../../images/box_rep1.svg\")\n",
    "sns.boxplot(data=df2, y='sequence reads', x='sample')\n",
    "plt.savefig(\"../../images/box_rep2.svg\")"
   ]
  },
  {
   "cell_type": "code",
   "execution_count": null,
   "metadata": {},
   "outputs": [],
   "source": [
    "def label(x, color, label):\n",
    "  ax = plt.gca()\n",
    "  ax.text(0.3, 0.4, label, fontweight=\"bold\", color=color,\n",
    "      ha=\"left\", va=\"center\", transform=ax.transAxes)\n",
    "\n",
    "def plot_ridge(df, max, name):\n",
    "  sns.set_theme(style=\"white\", rc={\"axes.facecolor\": (0, 0, 0, 0)})\n",
    "\n",
    "  # Initialize the FacetGrid object\n",
    "  pal = sns.cubehelix_palette(10, rot=-.25, light=.7)\n",
    "  g = sns.FacetGrid(df, row=\"sample\", hue=\"sample\", aspect=5, height=1, palette=pal)\n",
    "\n",
    "  # Draw the densities in a few steps\n",
    "  g.map(sns.kdeplot, \"sequence reads\",\n",
    "    bw_adjust=.5, clip=[1, max],\n",
    "    fill=True, alpha=1, linewidth=1.5, cut=1)\n",
    "  plt.xlim([0,max])\n",
    "  g.map(sns.kdeplot, \"sequence reads\", clip_on=False, color=\"w\", lw=2, bw_adjust=.5, clip=[1, max], cut=1)\n",
    "\n",
    "  # passing color=None to refline() uses the hue mapping\n",
    "  g.refline(y=0, linewidth=2, linestyle=\"-\", color=None, clip_on=False)\n",
    "\n",
    "  g.map(label, \"sequence reads\")\n",
    "\n",
    "  # Set the subplots to overlap\n",
    "  g.figure.subplots_adjust(hspace=-.4)\n",
    "\n",
    "  # Remove axes details that don't play well with overlap\n",
    "  g.set_titles(\"\")\n",
    "  g.set(yticks=[], ylabel=\"\")\n",
    "  g.despine(bottom=True, left=True)\n",
    "  plt.savefig(f\"../../images/{name}.svg\")"
   ]
  },
  {
   "cell_type": "code",
   "execution_count": null,
   "metadata": {},
   "outputs": [],
   "source": [
    "plot_ridge(df1, 100, 'kde_stack_rep1')\n",
    "plot_ridge(df2, 200, 'kde_stack_rep2')"
   ]
  }
 ],
 "metadata": {
  "kernelspec": {
   "display_name": "Python 3.10.4 64-bit",
   "language": "python",
   "name": "python3"
  },
  "language_info": {
   "codemirror_mode": {
    "name": "ipython",
    "version": 3
   },
   "file_extension": ".py",
   "mimetype": "text/x-python",
   "name": "python",
   "nbconvert_exporter": "python",
   "pygments_lexer": "ipython3",
   "version": "3.10.4 (tags/v3.10.4:9d38120, Mar 23 2022, 23:13:41) [MSC v.1929 64 bit (AMD64)]"
  },
  "orig_nbformat": 4,
  "vscode": {
   "interpreter": {
    "hash": "fa7c27dc793df5be2edaadabdf154ce9b78714d52aa15f6b4e8ee8c3cd646d7f"
   }
  }
 },
 "nbformat": 4,
 "nbformat_minor": 2
}
