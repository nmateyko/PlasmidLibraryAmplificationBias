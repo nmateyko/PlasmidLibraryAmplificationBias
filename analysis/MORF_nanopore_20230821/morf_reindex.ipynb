{
 "cells": [
  {
   "cell_type": "code",
   "execution_count": 1,
   "metadata": {},
   "outputs": [],
   "source": [
    "import Levenshtein\n",
    "from itertools import islice"
   ]
  },
  {
   "cell_type": "code",
   "execution_count": 2,
   "metadata": {},
   "outputs": [],
   "source": [
    "def readFastq(fastqfile):\n",
    "    \"parse a fastq-formatted file, yielding a (header, sequence, quality) tuple\"\n",
    "    fastqiter = (l.strip('\\n') for l in fastqfile)  # strip trailing newlines \n",
    "    fastqiter = filter(lambda l: l, fastqiter)  # skip blank lines\n",
    "    while True:\n",
    "        fqlines = list(islice(fastqiter, 4))\n",
    "        if len(fqlines) == 4:\n",
    "            header1,seq,header2,qual = fqlines\n",
    "        elif len(fqlines) == 0:\n",
    "            return\n",
    "        else:\n",
    "            raise EOFError(\"Failed to parse four lines from fastq file!\")\n",
    "\n",
    "        if header1.startswith('@') and header2.startswith('+'):\n",
    "            yield header1[1:], seq, qual\n",
    "        else:\n",
    "            raise ValueError(\"Invalid header lines: %s and %s for seq %s\" % (header1, header2, seq))\n",
    "\n",
    "COMP_TABLE = str.maketrans(\"ACTGN\", \"TGACN\")\n",
    "\n",
    "def revcomp(seq):\n",
    "    '''Return the reverse complement of a DNA sequence'''\n",
    "    if not set(seq).issubset({'A', 'C', 'G', 'T', 'N'}):\n",
    "        raise ValueError(f\"Sequence ({seq}) must only contain ACTGN\")\n",
    "    return seq.translate(COMP_TABLE)[::-1]\n",
    "\n",
    "def all_kmers(seq, k):\n",
    "    return [seq[i:i + k] for i in range(len(seq) - k + 1)]\n",
    "\n",
    "def first_index_of_kmer(seq, kmer, dist, dist_func):\n",
    "  k = len(kmer)\n",
    "  kmers = all_kmers(seq, k)\n",
    "  for i, s in enumerate(kmers):\n",
    "    if dist_func(kmer, s) <= dist:\n",
    "      return i\n",
    "  return -1\n",
    "\n",
    "def best_index_of_kmer(seq, kmer, dist, dist_func):\n",
    "  k = len(kmer)\n",
    "  kmers = all_kmers(seq, k)\n",
    "  lowest_distance = dist + 1\n",
    "  best_index = -1\n",
    "  for i, s in enumerate(kmers):\n",
    "    distance = dist_func(kmer, s)\n",
    "    if distance <= dist and distance < lowest_distance:\n",
    "      lowest_distance = distance\n",
    "      best_index = i\n",
    "  return best_index"
   ]
  },
  {
   "cell_type": "code",
   "execution_count": 3,
   "metadata": {},
   "outputs": [],
   "source": [
    "QUERY = 'ATGAGTATTCAACATTTCCGTGTCGCCCTTATTCCCTTTTTTGCGGCATTTTGCCTTCCTGTTTTTGCTCACCCAGAAACGCTGGTGAAAGTAAAAGATG'"
   ]
  },
  {
   "cell_type": "code",
   "execution_count": 4,
   "metadata": {},
   "outputs": [],
   "source": [
    "# read in sequences from fastq\n",
    "with open('Lab_a3b_1_MORF.fastq', 'r') as f:\n",
    "    parsed_fastq = readFastq(f)\n",
    "    reads = [('>' + header, seq) for header, seq, _ in parsed_fastq]\n",
    "\n",
    "# concatenate each sequence to itself in case the read starts in the middle of the insert site\n",
    "reads_concat = [(header, seq + seq) for header, seq in reads]\n",
    "\n",
    "# get first instance of upstream sequence and the sequence downstream of it\n",
    "reindexed_seqs = []\n",
    "for header, seq in reads_concat:\n",
    "    index = first_index_of_kmer(seq, QUERY, 10, Levenshtein.distance)\n",
    "    if index >= 0:\n",
    "        reindexed_seq = seq[index:index + int(len(seq)/2)]\n",
    "        reindexed_seqs.append((header, reindexed_seq))\n",
    "    else:\n",
    "        index_rev = first_index_of_kmer(revcomp(seq), QUERY, 10, Levenshtein.distance)\n",
    "        if index_rev >= 0:\n",
    "            reindexed_seq = revcomp(seq)[index_rev:index_rev + int(len(seq)/2)]\n",
    "            reindexed_seqs.append((header, reindexed_seq))"
   ]
  },
  {
   "cell_type": "code",
   "execution_count": 5,
   "metadata": {},
   "outputs": [
    {
     "name": "stdout",
     "output_type": "stream",
     "text": [
      "166\n"
     ]
    }
   ],
   "source": [
    "print(len(reindexed_seqs))"
   ]
  },
  {
   "cell_type": "code",
   "execution_count": 6,
   "metadata": {},
   "outputs": [],
   "source": [
    "with open('MORF_reindexed.fasta', 'w') as f:\n",
    "    for header, seq in reindexed_seqs:\n",
    "        f.write(f'{header}\\n{seq}\\n')"
   ]
  }
 ],
 "metadata": {
  "kernelspec": {
   "display_name": "plab",
   "language": "python",
   "name": "plab"
  },
  "language_info": {
   "codemirror_mode": {
    "name": "ipython",
    "version": 3
   },
   "file_extension": ".py",
   "mimetype": "text/x-python",
   "name": "python",
   "nbconvert_exporter": "python",
   "pygments_lexer": "ipython3",
   "version": "3.10.4"
  },
  "orig_nbformat": 4
 },
 "nbformat": 4,
 "nbformat_minor": 2
}
