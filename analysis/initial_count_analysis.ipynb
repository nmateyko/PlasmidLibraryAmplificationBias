{
 "cells": [
  {
   "cell_type": "code",
   "execution_count": 7,
   "metadata": {},
   "outputs": [],
   "source": [
    "%matplotlib inline\n",
    "\n",
    "import numpy as np\n",
    "import matplotlib.pyplot as plt\n",
    "import seaborn as sns"
   ]
  },
  {
   "cell_type": "code",
   "execution_count": 31,
   "metadata": {},
   "outputs": [
    {
     "name": "stderr",
     "output_type": "stream",
     "text": [
      "c:\\Users\\nmateyko\\AppData\\Local\\Programs\\Python\\Python310\\lib\\site-packages\\seaborn\\distributions.py:1699: FutureWarning: The `bw` parameter is deprecated in favor of `bw_method` and `bw_adjust`. Using 0.5 for `bw_method`, but please see the docs for the new parameters and update your code.\n",
      "  warnings.warn(msg, FutureWarning)\n"
     ]
    },
    {
     "data": {
      "text/plain": [
       "<AxesSubplot:ylabel='Density'>"
      ]
     },
     "execution_count": 31,
     "metadata": {},
     "output_type": "execute_result"
    },
    {
     "data": {
      "image/png": "[encoded data removed]",
      "text/plain": [
       "<Figure size 432x288 with 1 Axes>"
      ]
     },
     "metadata": {
      "needs_background": "light"
     },
     "output_type": "display_data"
    }
   ],
   "source": [
    "counts = np.load('../data/final_counts/count_test_out_counts.npy')\n",
    "sns.kdeplot(counts, bw=0.5)"
   ]
  },
  {
   "cell_type": "code",
   "execution_count": 32,
   "metadata": {},
   "outputs": [
    {
     "data": {
      "text/plain": [
       "163"
      ]
     },
     "execution_count": 32,
     "metadata": {},
     "output_type": "execute_result"
    }
   ],
   "source": [
    "max(counts)"
   ]
  },
  {
   "cell_type": "code",
   "execution_count": 33,
   "metadata": {},
   "outputs": [
    {
     "data": {
      "text/plain": [
       "(array([7.243e+03, 3.086e+03, 3.040e+03, 3.226e+03, 3.303e+03, 3.520e+03,\n",
       "        3.757e+03, 3.966e+03, 3.952e+03, 4.072e+03, 4.281e+03, 4.495e+03,\n",
       "        4.481e+03, 4.588e+03, 4.536e+03, 4.768e+03, 4.601e+03, 4.587e+03,\n",
       "        4.595e+03, 4.538e+03, 4.472e+03, 4.516e+03, 4.337e+03, 4.233e+03,\n",
       "        4.222e+03, 4.041e+03, 3.885e+03, 3.748e+03, 3.750e+03, 3.569e+03,\n",
       "        3.410e+03, 3.391e+03, 3.268e+03, 3.094e+03, 2.920e+03, 2.671e+03,\n",
       "        2.640e+03, 2.539e+03, 2.384e+03, 2.226e+03, 2.188e+03, 2.082e+03,\n",
       "        1.964e+03, 1.849e+03, 1.752e+03, 1.600e+03, 1.552e+03, 1.441e+03,\n",
       "        1.402e+03, 1.297e+03, 1.147e+03, 1.090e+03, 1.026e+03, 9.810e+02,\n",
       "        9.230e+02, 8.560e+02, 8.020e+02, 7.450e+02, 6.660e+02, 6.890e+02,\n",
       "        6.170e+02, 5.800e+02, 4.820e+02, 4.410e+02, 4.450e+02, 3.950e+02,\n",
       "        4.080e+02, 3.250e+02, 3.250e+02, 2.900e+02, 2.620e+02, 2.320e+02,\n",
       "        2.220e+02, 2.180e+02, 2.030e+02, 1.720e+02, 1.830e+02, 1.670e+02,\n",
       "        1.400e+02, 1.580e+02, 1.090e+02, 1.170e+02, 8.400e+01, 8.300e+01,\n",
       "        9.200e+01, 7.700e+01, 6.800e+01, 6.200e+01, 6.900e+01, 5.900e+01,\n",
       "        4.400e+01, 4.200e+01, 3.500e+01, 4.300e+01, 3.700e+01, 3.000e+01,\n",
       "        3.000e+01, 2.100e+01, 2.300e+01, 2.500e+01, 1.400e+01, 2.000e+01,\n",
       "        1.500e+01, 1.900e+01, 1.000e+01, 1.600e+01, 6.000e+00, 1.400e+01,\n",
       "        1.100e+01, 1.000e+01, 9.000e+00, 1.100e+01, 4.000e+00, 1.000e+01,\n",
       "        6.000e+00, 3.000e+00, 5.000e+00, 2.000e+00, 4.000e+00, 4.000e+00,\n",
       "        6.000e+00, 2.000e+00, 1.000e+00, 4.000e+00, 3.000e+00, 0.000e+00,\n",
       "        3.000e+00, 1.000e+00, 0.000e+00, 2.000e+00, 0.000e+00, 1.000e+00,\n",
       "        1.000e+00, 3.000e+00, 1.000e+00, 0.000e+00, 1.000e+00, 0.000e+00,\n",
       "        0.000e+00, 1.000e+00, 1.000e+00, 0.000e+00, 0.000e+00, 0.000e+00,\n",
       "        1.000e+00, 0.000e+00, 0.000e+00, 0.000e+00, 0.000e+00, 1.000e+00,\n",
       "        0.000e+00, 0.000e+00, 1.000e+00, 0.000e+00, 0.000e+00, 0.000e+00,\n",
       "        0.000e+00, 0.000e+00, 0.000e+00, 0.000e+00, 0.000e+00, 1.000e+00]),\n",
       " array([  1,   2,   3,   4,   5,   6,   7,   8,   9,  10,  11,  12,  13,\n",
       "         14,  15,  16,  17,  18,  19,  20,  21,  22,  23,  24,  25,  26,\n",
       "         27,  28,  29,  30,  31,  32,  33,  34,  35,  36,  37,  38,  39,\n",
       "         40,  41,  42,  43,  44,  45,  46,  47,  48,  49,  50,  51,  52,\n",
       "         53,  54,  55,  56,  57,  58,  59,  60,  61,  62,  63,  64,  65,\n",
       "         66,  67,  68,  69,  70,  71,  72,  73,  74,  75,  76,  77,  78,\n",
       "         79,  80,  81,  82,  83,  84,  85,  86,  87,  88,  89,  90,  91,\n",
       "         92,  93,  94,  95,  96,  97,  98,  99, 100, 101, 102, 103, 104,\n",
       "        105, 106, 107, 108, 109, 110, 111, 112, 113, 114, 115, 116, 117,\n",
       "        118, 119, 120, 121, 122, 123, 124, 125, 126, 127, 128, 129, 130,\n",
       "        131, 132, 133, 134, 135, 136, 137, 138, 139, 140, 141, 142, 143,\n",
       "        144, 145, 146, 147, 148, 149, 150, 151, 152, 153, 154, 155, 156,\n",
       "        157, 158, 159, 160, 161, 162, 163]),\n",
       " <BarContainer object of 162 artists>)"
      ]
     },
     "execution_count": 33,
     "metadata": {},
     "output_type": "execute_result"
    },
    {
     "data": {
      "image/png": "[encoded data removed]",
      "text/plain": [
       "<Figure size 432x288 with 1 Axes>"
      ]
     },
     "metadata": {
      "needs_background": "light"
     },
     "output_type": "display_data"
    }
   ],
   "source": [
    "plt.hist(counts, bins=range(1,164))"
   ]
  },
  {
   "cell_type": "code",
   "execution_count": 23,
   "metadata": {},
   "outputs": [
    {
     "data": {
      "text/plain": [
       "144117"
      ]
     },
     "execution_count": 23,
     "metadata": {},
     "output_type": "execute_result"
    }
   ],
   "source": [
    "len(counts)"
   ]
  }
 ],
 "metadata": {
  "kernelspec": {
   "display_name": "Python 3.10.4 64-bit",
   "language": "python",
   "name": "python3"
  },
  "language_info": {
   "codemirror_mode": {
    "name": "ipython",
    "version": 3
   },
   "file_extension": ".py",
   "mimetype": "text/x-python",
   "name": "python",
   "nbconvert_exporter": "python",
   "pygments_lexer": "ipython3",
   "version": "3.10.4"
  },
  "orig_nbformat": 4,
  "vscode": {
   "interpreter": {
    "hash": "fa7c27dc793df5be2edaadabdf154ce9b78714d52aa15f6b4e8ee8c3cd646d7f"
   }
  }
 },
 "nbformat": 4,
 "nbformat_minor": 2
}
