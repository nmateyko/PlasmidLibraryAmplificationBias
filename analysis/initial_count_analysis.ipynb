{
 "cells": [
  {
   "cell_type": "code",
   "execution_count": null,
   "metadata": {},
   "outputs": [],
   "source": [
    "%matplotlib inline\n",
    "\n",
    "import numpy as np\n",
    "import matplotlib.pyplot as plt\n",
    "import seaborn as sns"
   ]
  },
  {
   "cell_type": "markdown",
   "metadata": {},
   "source": [
    "Load data from first replicate and try plotting with kdeplot."
   ]
  },
  {
   "cell_type": "code",
   "execution_count": null,
   "metadata": {},
   "outputs": [],
   "source": [
    "liquid1 = np.load('../data/final_counts/counts.1_counts.npy')\n",
    "semisolid1 = np.load('../data/final_counts/counts.2_counts.npy')\n",
    "small_spread1 = np.load('../data/final_counts/counts.3_counts.npy')\n",
    "bead_spread1 = np.load('../data/final_counts/counts.4_counts.npy')\n",
    "large_spread1 = np.load('../data/final_counts/counts.5_counts.npy')\n",
    "sns.kdeplot(liquid1, bw_adjust=5, label='liquid')\n",
    "sns.kdeplot(semisolid1, bw_adjust=5, label='semisolid')\n",
    "sns.kdeplot(small_spread1, bw_adjust=5, label='small spread')\n",
    "sns.kdeplot(bead_spread1, bw_adjust=5, label='bead spread')\n",
    "sns.kdeplot(large_spread1, bw_adjust=5, label='large spread')\n",
    "plt.legend()\n",
    "plt.xlim([0,100])"
   ]
  },
  {
   "cell_type": "markdown",
   "metadata": {},
   "source": [
    "Semisolid looks a bit weird; try plotting as histograms instead."
   ]
  },
  {
   "cell_type": "code",
   "execution_count": null,
   "metadata": {},
   "outputs": [],
   "source": [
    "plt.hist(liquid1, label='liquid', bins=range(0, 100), alpha=0.5)\n",
    "plt.hist(semisolid1, label='semisolid', bins=range(0, 100), alpha=0.5)\n",
    "plt.hist(small_spread1, label='small spread', bins=range(0, 100), alpha=0.5)\n",
    "plt.hist(bead_spread1, label='bead spread', bins=range(0, 100), alpha=0.5)\n",
    "plt.hist(large_spread1, label='large spread', bins=range(0, 100), alpha=0.5)\n",
    "plt.legend()"
   ]
  },
  {
   "cell_type": "markdown",
   "metadata": {},
   "source": [
    "Find the number of unique sequences seen in each library."
   ]
  },
  {
   "cell_type": "code",
   "execution_count": null,
   "metadata": {},
   "outputs": [],
   "source": [
    "samples = [liquid1, semisolid1, small_spread1, bead_spread1, large_spread1]\n",
    "names = ['liquid', 'semisolid', 'small_spread', 'bead_spread', 'large_spread']\n",
    "counts = [len(sample) for sample in samples]\n",
    "for i in range(5):\n",
    "  print(f'{names[i]}: {counts[i]}')"
   ]
  },
  {
   "cell_type": "markdown",
   "metadata": {},
   "source": [
    "Find the maximum count for a sequence in each library."
   ]
  },
  {
   "cell_type": "code",
   "execution_count": null,
   "metadata": {},
   "outputs": [],
   "source": [
    "maxima = [max(sample) for sample in samples]\n",
    "for i in range(5):\n",
    "  print(f'{names[i]}: {maxima[i]}')"
   ]
  },
  {
   "cell_type": "markdown",
   "metadata": {},
   "source": [
    "Do same analysis for replicate 2."
   ]
  },
  {
   "cell_type": "code",
   "execution_count": null,
   "metadata": {},
   "outputs": [],
   "source": [
    "liquid2 = np.load('../data/final_counts/counts.6_counts.npy')\n",
    "semisolid2 = np.load('../data/final_counts/counts.7_counts.npy')\n",
    "small_spread2 = np.load('../data/final_counts/counts.8_counts.npy')\n",
    "bead_spread2 = np.load('../data/final_counts/counts.9_counts.npy')\n",
    "large_spread2 = np.load('../data/final_counts/counts.10_counts.npy')"
   ]
  },
  {
   "cell_type": "code",
   "execution_count": null,
   "metadata": {},
   "outputs": [],
   "source": [
    "plt.hist(liquid2, label='liquid', bins=range(0, 100), alpha=0.5)\n",
    "plt.hist(semisolid2, label='semisolid', bins=range(0, 100), alpha=0.5)\n",
    "plt.hist(small_spread2, label='small spread', bins=range(0, 100), alpha=0.5)\n",
    "plt.hist(bead_spread2, label='bead spread', bins=range(0, 100), alpha=0.5)\n",
    "plt.hist(large_spread2, label='large spread', bins=range(0, 100), alpha=0.5)\n",
    "plt.legend()"
   ]
  },
  {
   "cell_type": "code",
   "execution_count": null,
   "metadata": {},
   "outputs": [],
   "source": [
    "samples = [liquid2, semisolid2, small_spread2, bead_spread2, large_spread2]\n",
    "names = ['liquid', 'semisolid', 'small_spread', 'bead_spread', 'large_spread']\n",
    "counts = [len(sample) for sample in samples]\n",
    "for i in range(5):\n",
    "  print(f'{names[i]}: {counts[i]}')"
   ]
  },
  {
   "cell_type": "code",
   "execution_count": null,
   "metadata": {},
   "outputs": [],
   "source": [
    "maxima = [max(sample) for sample in samples]\n",
    "for i in range(5):\n",
    "  print(f'{names[i]}: {maxima[i]}')"
   ]
  }
 ],
 "metadata": {
  "kernelspec": {
   "display_name": "Python 3.10.4 64-bit",
   "language": "python",
   "name": "python3"
  },
  "language_info": {
   "codemirror_mode": {
    "name": "ipython",
    "version": 3
   },
   "file_extension": ".py",
   "mimetype": "text/x-python",
   "name": "python",
   "nbconvert_exporter": "python",
   "pygments_lexer": "ipython3",
   "version": "3.10.4"
  },
  "orig_nbformat": 4,
  "vscode": {
   "interpreter": {
    "hash": "fa7c27dc793df5be2edaadabdf154ce9b78714d52aa15f6b4e8ee8c3cd646d7f"
   }
  }
 },
 "nbformat": 4,
 "nbformat_minor": 2
}
